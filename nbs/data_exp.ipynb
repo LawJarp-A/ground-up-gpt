{
 "cells": [
  {
   "cell_type": "markdown",
   "metadata": {},
   "source": [
    "## Quick data exploration"
   ]
  },
  {
   "cell_type": "code",
   "execution_count": 18,
   "metadata": {},
   "outputs": [],
   "source": [
    "import os\n",
    "import seaborn as sns"
   ]
  },
  {
   "cell_type": "code",
   "execution_count": 3,
   "metadata": {},
   "outputs": [],
   "source": [
    "# Open the combined.txt file\n",
    "with open('../data/combined.txt', 'r') as f:\n",
    "    text = f.read()"
   ]
  },
  {
   "cell_type": "code",
   "execution_count": 4,
   "metadata": {},
   "outputs": [
    {
     "name": "stdout",
     "output_type": "stream",
     "text": [
      "Number of words in the dataset: 1798646\n"
     ]
    }
   ],
   "source": [
    "# How many words in the dataset?\n",
    "print('Number of words in the dataset:', len(text.split()))"
   ]
  },
  {
   "cell_type": "code",
   "execution_count": 30,
   "metadata": {},
   "outputs": [
    {
     "name": "stdout",
     "output_type": "stream",
     "text": [
      "Number of unique characters in the dataset: 109\n",
      "Unique characters in the dataset: {'a', '$', 'R', 'I', 'X', 'x', '5', ':', '7', ';', 'u', 'p', 'G', 'r', '\\x1f', 'd', '\\x93', '¦', 'v', '^', 'D', '¬', 'c', '(', '_', 'w', '8', 'T', 'E', 'Q', '2', '—', '?', '£', 'O', '”', 'S', 'V', ' ', 'i', ')', 'P', '=', 'U', 'y', 'A', 'C', '*', 's', '9', '\\x95', 'L', '\\x91', 'H', '{', 'o', '\\xad', 'n', 'l', 'F', 'Y', '}', ']', '[', '1', 't', 'B', '6', '«', 'e', '>', '/', '‘', '%', '“', 'j', '\\\\', '\\n', 'z', 'M', 'q', '-', '0', 'm', '3', '\\x92', 'Z', 'K', '~', 'f', 'b', '»', '’', 'g', 'k', '\\t', 'h', '\"', '`', 'J', '4', \"'\", 'W', ',', '&', '.', '\\x96', '!', 'N'}\n"
     ]
    }
   ],
   "source": [
    "# How many unique characters in the dataset? (Vocab size)\n",
    "print('Number of unique characters in the dataset:', len(set(text)))\n",
    "# The unique characters in the dataset\n",
    "print('Unique characters in the dataset:', set(text))"
   ]
  },
  {
   "cell_type": "code",
   "execution_count": 12,
   "metadata": {},
   "outputs": [],
   "source": [
    "# What is the frequency of each character in the dataset?\n",
    "freq_dict = {}\n",
    "for char in text:\n",
    "    if char not in freq_dict:\n",
    "        freq_dict[char] = 0\n",
    "    freq_dict[char] += 1\n",
    "# Sort the frequency dictionary by frequency\n",
    "freq_dict = sorted(freq_dict.items(), key=lambda x: x[1], reverse=True)\n"
   ]
  },
  {
   "cell_type": "code",
   "execution_count": 29,
   "metadata": {},
   "outputs": [
    {
     "name": "stdout",
     "output_type": "stream",
     "text": [
      " : 1797510 | e: 917092 | t: 633548 | a: 602934 | o: 583089 | n: 504267 | r: 468073 | h: 466956 | i: 456312 | s: 438852 | d: 377333 | l: 319736 | u: 211192 | g: 181672 | w: 179703 | m: 165052 | y: 162158 | f: 155624 | c: 138217 | ,: 129045 | .: 124059 | b: 107639 | p: 106634 | \n",
      ": 99471 | k: 77615 | \": 71855 | v: 61768 | ': 45863 | H: 43164 | I: 30531 | T: 24754 | -: 17743 | S: 17684 | M: 16549 | A: 15936 | W: 14376 | B: 13422 | ?: 13407 | !: 12675 | D: 12566 | R: 11530 | G: 10708 | F: 9802 | ;: 9649 | P: 9141 | N: 8165 | E: 8001 | x: 7555 | C: 7126 | L: 7107 | O: 6560 | Y: 6395 | j: 6275 | z: 5547 | q: 4798 | :: 3738 | V: 3102 | ­: 2640 | U: 2551 | K: 2439 | `: 2146 | _: 1625 | “: 1439 | ”: 1421 | ’: 1319 | Q: 954 | J: 879 | ): 632 | (: 621 | 1: 551 | ‘: 373 | *: 368 | 2: 346 | —: 286 | 3: 178 | 5: 161 | 4: 160 | 0: 153 | X: 147 | 9: 131 | 6: 130 | Z: 129 | 8: 129 | 7: 118 | : 99 | /: 36 | =: 16 | \\: 10 | : 9 | %: 8 | $: 7 | : 6 | ]: 6 | \t: 6 | : 4 | &: 4 | ¬: 3 | ¦: 3 | ^: 2 | «: 2 | ~: 2 | : 2 | \u001f: 1 | £: 1 | {: 1 | [: 1 | »: 1 | >: 1 | }: 1 | "
     ]
    }
   ],
   "source": [
    "# Print the frequency of each character in the dataset (pretty print)\n",
    "for char, freq in freq_dict:\n",
    "    print(f\"{char}: {freq}\", end=' | ')\n"
   ]
  }
 ],
 "metadata": {
  "kernelspec": {
   "display_name": "Python 3",
   "language": "python",
   "name": "python3"
  },
  "language_info": {
   "codemirror_mode": {
    "name": "ipython",
    "version": 3
   },
   "file_extension": ".py",
   "mimetype": "text/x-python",
   "name": "python",
   "nbconvert_exporter": "python",
   "pygments_lexer": "ipython3",
   "version": "3.10.13"
  }
 },
 "nbformat": 4,
 "nbformat_minor": 2
}
